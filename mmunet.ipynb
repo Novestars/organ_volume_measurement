{
  "nbformat": 4,
  "nbformat_minor": 0,
  "metadata": {
    "colab": {
      "provenance": [],
      "gpuType": "T4"
    },
    "kernelspec": {
      "name": "python3",
      "display_name": "Python 3"
    },
    "language_info": {
      "name": "python"
    },
    "accelerator": "GPU"
  },
  "cells": [
    {
      "cell_type": "code",
      "execution_count": 27,
      "metadata": {
        "id": "2Yu1EV7SOXnc"
      },
      "outputs": [],
      "source": [
        "%%capture\n",
        "!pip install nnunet==1.7.1"
      ]
    },
    {
      "cell_type": "code",
      "source": [
        "import tempfile\n",
        "import os\n",
        "import shutil\n",
        "import glob\n",
        "from nnunet.inference.predict import predict_from_folder\n"
      ],
      "metadata": {
        "id": "cxgPn_zzO44q"
      },
      "execution_count": 31,
      "outputs": []
    },
    {
      "cell_type": "markdown",
      "source": [
        "Please upload nifti image to that /context/images folder"
      ],
      "metadata": {
        "id": "TvXv-39AhjV_"
      }
    },
    {
      "cell_type": "code",
      "source": [
        "os.makedirs('images')"
      ],
      "metadata": {
        "id": "GPVHD7bIO8CJ"
      },
      "execution_count": 30,
      "outputs": []
    },
    {
      "cell_type": "code",
      "source": [
        "def perform_nnunet_segementation(input_folder,  output_folder,model_folder, folds = 'all'):\n",
        "    save_npz = True\n",
        "    num_threads_preprocessing = 6\n",
        "    num_threads_nifti_save = 2\n",
        "    lowres_segmentations = None\n",
        "    part_id = 0\n",
        "    num_parts = 1\n",
        "    disable_tta = False\n",
        "    overwrite_existing = False\n",
        "    mode = \"normal\"\n",
        "    all_in_gpu = None\n",
        "    step_size = 0.5\n",
        "    chk = 'model_final_checkpoint'\n",
        "    disable_mixed_precision = False\n",
        "\n",
        "    predict_from_folder(\n",
        "        model_folder, input_folder, output_folder, folds, save_npz,\n",
        "        num_threads_preprocessing, num_threads_nifti_save, lowres_segmentations,\n",
        "        part_id, num_parts, not disable_tta, overwrite_existing=overwrite_existing,\n",
        "        mode=mode, overwrite_all_in_gpu=all_in_gpu,\n",
        "        mixed_precision=not disable_mixed_precision,\n",
        "        step_size=step_size, checkpoint_name=chk\n",
        "    )\n"
      ],
      "metadata": {
        "id": "106_ZSdFRb5V"
      },
      "execution_count": null,
      "outputs": []
    },
    {
      "cell_type": "code",
      "source": [
        "!gdown 1xWE1tT7JUuRO2N7SrNo8uEDzJdUwLAsH"
      ],
      "metadata": {
        "colab": {
          "base_uri": "https://localhost:8080/"
        },
        "id": "9QymJIv1R79W",
        "outputId": "d8b3004f-6328-4cbe-b551-79f16e8916ad"
      },
      "execution_count": null,
      "outputs": [
        {
          "output_type": "stream",
          "name": "stdout",
          "text": [
            "Downloading...\n",
            "From: https://drive.google.com/uc?id=1xWE1tT7JUuRO2N7SrNo8uEDzJdUwLAsH\n",
            "To: /content/model_checkpoint.zip\n",
            "100% 342M/342M [00:05<00:00, 59.2MB/s]\n"
          ]
        }
      ]
    },
    {
      "cell_type": "code",
      "source": [
        "!unzip /content/model_checkpoint.zip -d /content/model_checkpoint"
      ],
      "metadata": {
        "colab": {
          "base_uri": "https://localhost:8080/"
        },
        "id": "u_XXEyjbUsLy",
        "outputId": "e097750b-6a1a-4f85-f259-139d0696246f"
      },
      "execution_count": null,
      "outputs": [
        {
          "output_type": "stream",
          "name": "stdout",
          "text": [
            "Archive:  /content/model_checkpoint.zip\n",
            "   creating: /content/model_checkpoint/all/\n",
            "  inflating: /content/model_checkpoint/all/plans.pkl  \n",
            "  inflating: /content/model_checkpoint/all/model_final_checkpoint.model.pkl  \n",
            "  inflating: /content/model_checkpoint/all/model_final_checkpoint.model  \n",
            "  inflating: /content/model_checkpoint/plans.pkl  \n"
          ]
        }
      ]
    },
    {
      "cell_type": "code",
      "source": [
        "base_path=os.getcwd()\n",
        "with tempfile.TemporaryDirectory(dir=base_path):\n",
        "  input_input_folder = os.path.join(base_path,'image_input_folder')\n",
        "  os.makedirs(input_input_folder,exist_ok=True)\n",
        "  output_input_folder = os.path.join(base_path,'seg_output_folder')\n",
        "  os.makedirs(output_input_folder,exist_ok=True)\n",
        "  nii_file_list = glob.glob('/content/images/*.nii.gz')\n",
        "  for ind,file_path in enumerate(nii_file_list):\n",
        "    shutil.copy(file_path,os.path.join(input_input_folder, 'ADPKD_{0:03d}_0000.nii.gz'.format(ind)))\n",
        "    print(os.path.join(input_input_folder, 'ADPKD_{0:03d}_0000.nii.gz'.format(ind)))\n",
        "  perform_nnunet_segementation(input_input_folder, output_input_folder,model_folder='/content/model_checkpoint/',folds='all')\n",
        "  shutil.make_archive('/content/adpkd_segmentation','zip',output_input_folder)\n",
        "\n"
      ],
      "metadata": {
        "id": "jokIGX1bRYL0",
        "colab": {
          "base_uri": "https://localhost:8080/"
        },
        "outputId": "c881148f-f4d9-4bab-b6f9-7a2d32eaf124"
      },
      "execution_count": 38,
      "outputs": [
        {
          "output_type": "stream",
          "name": "stdout",
          "text": [
            "/content/image_input_folder/ADPKD_000_0000.nii.gz\n",
            "This model expects 1 input modalities for each image\n",
            "Found 1 unique case ids, here are some examples: ['ADPKD_000']\n",
            "If they don't look right, make sure to double check your filenames. They must end with _0000.nii.gz etc\n",
            "number of cases: 1\n",
            "number of cases that still need to be predicted: 1\n",
            "emptying cuda cache\n",
            "loading parameters for folds, all\n",
            "using the following model files:  ['/content/model_checkpoint/all/model_final_checkpoint.model']\n",
            "starting preprocessing generator\n",
            "starting prediction...\n",
            "preprocessing /content/seg_output_folder/ADPKD_000.nii.gz\n",
            "using preprocessor GenericPreprocessor\n",
            "before crop: (1, 34, 320, 320) after crop: (1, 34, 319, 319) spacing: [6.     1.4375 1.4375] \n",
            "\n",
            "separate z, order in z is 0 order inplane is 3\n",
            "separate z, order in z is 0 order inplane is 1\n",
            "before: {'spacing': array([6.    , 1.4375, 1.4375]), 'spacing_transposed': array([6.    , 1.4375, 1.4375]), 'data.shape (data is transposed)': (1, 34, 319, 319)} \n",
            "after:  {'spacing': array([3.00126741, 1.1875    , 1.1875    ]), 'data.shape (data is resampled)': (1, 68, 386, 386)} \n",
            "\n",
            "(1, 68, 386, 386)\n",
            "This worker has ended successfully, no errors to report\n",
            "predicting /content/seg_output_folder/ADPKD_000.nii.gz\n",
            "debug: mirroring True mirror_axes (0, 1, 2)\n",
            "step_size: 0.5\n",
            "do mirror: True\n",
            "data shape: (1, 96, 386, 386)\n",
            "patch size: [ 96 256 256]\n",
            "steps (x, y, and z): [[0], [0, 65, 130], [0, 65, 130]]\n",
            "number of tiles: 9\n",
            "computing Gaussian\n",
            "done\n",
            "prediction done\n",
            "force_separate_z: None interpolation order: 1\n",
            "separate z: True lowres axis [0]\n",
            "separate z, order in z is 0 order inplane is 1\n",
            "inference done. Now waiting for the segmentation export to finish...\n",
            "WARNING! Cannot run postprocessing because the postprocessing file is missing. Make sure to run consolidate_folds in the output folder of the model first!\n",
            "The folder you need to run this in is /content/model_checkpoint/\n"
          ]
        }
      ]
    },
    {
      "cell_type": "code",
      "source": [
        "from google.colab import files\n",
        "files.download('/content/adpkd_segmentation.zip')"
      ],
      "metadata": {
        "colab": {
          "base_uri": "https://localhost:8080/",
          "height": 17
        },
        "id": "Gi25x9hSRbN9",
        "outputId": "9896fa6b-ba2b-4680-c62d-b69333e17070"
      },
      "execution_count": 39,
      "outputs": [
        {
          "output_type": "display_data",
          "data": {
            "text/plain": [
              "<IPython.core.display.Javascript object>"
            ],
            "application/javascript": [
              "\n",
              "    async function download(id, filename, size) {\n",
              "      if (!google.colab.kernel.accessAllowed) {\n",
              "        return;\n",
              "      }\n",
              "      const div = document.createElement('div');\n",
              "      const label = document.createElement('label');\n",
              "      label.textContent = `Downloading \"${filename}\": `;\n",
              "      div.appendChild(label);\n",
              "      const progress = document.createElement('progress');\n",
              "      progress.max = size;\n",
              "      div.appendChild(progress);\n",
              "      document.body.appendChild(div);\n",
              "\n",
              "      const buffers = [];\n",
              "      let downloaded = 0;\n",
              "\n",
              "      const channel = await google.colab.kernel.comms.open(id);\n",
              "      // Send a message to notify the kernel that we're ready.\n",
              "      channel.send({})\n",
              "\n",
              "      for await (const message of channel.messages) {\n",
              "        // Send a message to notify the kernel that we're ready.\n",
              "        channel.send({})\n",
              "        if (message.buffers) {\n",
              "          for (const buffer of message.buffers) {\n",
              "            buffers.push(buffer);\n",
              "            downloaded += buffer.byteLength;\n",
              "            progress.value = downloaded;\n",
              "          }\n",
              "        }\n",
              "      }\n",
              "      const blob = new Blob(buffers, {type: 'application/binary'});\n",
              "      const a = document.createElement('a');\n",
              "      a.href = window.URL.createObjectURL(blob);\n",
              "      a.download = filename;\n",
              "      div.appendChild(a);\n",
              "      a.click();\n",
              "      div.remove();\n",
              "    }\n",
              "  "
            ]
          },
          "metadata": {}
        },
        {
          "output_type": "display_data",
          "data": {
            "text/plain": [
              "<IPython.core.display.Javascript object>"
            ],
            "application/javascript": [
              "download(\"download_88b3213f-2ea8-403e-9598-c4a1d13f0679\", \"adpkd_segmentation.zip\", 10493423)"
            ]
          },
          "metadata": {}
        }
      ]
    },
    {
      "cell_type": "code",
      "source": [],
      "metadata": {
        "id": "vAmY9q-8ePJ5"
      },
      "execution_count": null,
      "outputs": []
    }
  ]
}